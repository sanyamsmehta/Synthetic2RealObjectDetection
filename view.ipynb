{
 "cells": [
  {
   "cell_type": "code",
   "execution_count": null,
   "id": "d61bf519",
   "metadata": {},
   "outputs": [],
   "source": [
    "import torch\n",
    "\n",
    "from _models import CoordinateCNN, CoordinateDataset, visualize_prediction\n",
    "\n",
    "# Check if GPU is available\n",
    "device = torch.device(\"cuda:0\" if torch.cuda.is_available() else \"cpu\")\n",
    "\n",
    "model: CoordinateCNN = CoordinateCNN().to(device)\n",
    "\n",
    "print(model)\n",
    "\n",
    "model.load_state_dict(torch.load(\"models/checkpoint_rbg_256.pt\", weights_only=True))"
   ]
  },
  {
   "cell_type": "code",
   "execution_count": null,
   "id": "f19a2276",
   "metadata": {},
   "outputs": [],
   "source": [
    "imageId: str = \"000000143\"\n",
    "\n",
    "coords: torch.Tensor = CoordinateDataset.load_coordinates(\n",
    "    f\"train/plants/labels/{imageId}.txt\"\n",
    ")\n",
    "\n",
    "visualize_prediction(f\"train/plants/images/{imageId}.png\", model, coords)"
   ]
  },
  {
   "cell_type": "code",
   "execution_count": null,
   "id": "a83cd166",
   "metadata": {},
   "outputs": [],
   "source": [
    "testImage: str = \"IMG_8339\"\n",
    "\n",
    "coords = CoordinateDataset.load_coordinates(f\"testImages/labels/{testImage}.txt\")\n",
    "\n",
    "visualize_prediction(f\"testImages/images/{testImage}.jpg\", model, coords)"
   ]
  },
  {
   "cell_type": "code",
   "execution_count": null,
   "id": "c7438c5d",
   "metadata": {},
   "outputs": [],
   "source": [
    "coords: torch.Tensor = CoordinateDataset.load_coordinates(\n",
    "    f\"annotated_real_data/labels/IMG_9677_png.rf.84cceac583cfd778d70100a9a21b3a2b.txt\"\n",
    ")\n",
    "visualize_prediction(\n",
    "    f\"annotated_real_data/images/IMG_9677_png.rf.84cceac583cfd778d70100a9a21b3a2b.jpg\",\n",
    "    model,\n",
    "    coords,\n",
    ")"
   ]
  },
  {
   "cell_type": "code",
   "execution_count": null,
   "id": "1a7f504c",
   "metadata": {},
   "outputs": [],
   "source": [
    "coords: torch.Tensor = CoordinateDataset.load_coordinates(\n",
    "    f\"annotated_real_data/labels/IMG_9662_png.rf.91005e96f5b11af40c6171b9e495ce5d.txt\"\n",
    ")"
   ]
  },
  {
   "cell_type": "code",
   "execution_count": null,
   "id": "82ba1666",
   "metadata": {},
   "outputs": [],
   "source": [
    "imageId: str = \"000000005\"\n",
    "\n",
    "# Define transformations\n",
    "transformations = {\n",
    "    \"rot90\": \"90deg\",\n",
    "    \"rot180\": \"180deg\",\n",
    "    \"rot270\": \"270deg\",\n",
    "    \"flip_h\": \"flip_horizontal\",\n",
    "    \"flip_v\": \"flip_vertical\",\n",
    "    \"flip_h_rot90\": \"flip_h_rot90\",\n",
    "    \"flip_v_rot90\": \"flip_v_rot90\",\n",
    "}\n",
    "\n",
    "coords: torch.Tensor = CoordinateDataset.load_coordinates(\n",
    "    f\"train/base/labels/{imageId}.txt\"\n",
    ")\n",
    "\n",
    "visualize_prediction(f\"train/base/images/{imageId}.png\", model, coords)\n",
    "\n",
    "for v in transformations.values():\n",
    "    coords: torch.Tensor = CoordinateDataset.load_coordinates(\n",
    "        f\"train/base/labels/{imageId}_{v}.txt\"\n",
    "    )\n",
    "    visualize_prediction(\n",
    "        f\"train/base/images/{imageId}_transform_{v}.png\", model, coords\n",
    "    )"
   ]
  }
 ],
 "metadata": {
  "kernelspec": {
   "display_name": "Python 3",
   "language": "python",
   "name": "python3"
  },
  "language_info": {
   "codemirror_mode": {
    "name": "ipython",
    "version": 3
   },
   "file_extension": ".py",
   "mimetype": "text/x-python",
   "name": "python",
   "nbconvert_exporter": "python",
   "pygments_lexer": "ipython3",
   "version": "3.12.9"
  }
 },
 "nbformat": 4,
 "nbformat_minor": 5
}
