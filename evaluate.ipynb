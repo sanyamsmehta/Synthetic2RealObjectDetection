{
 "cells": [
  {
   "cell_type": "code",
   "execution_count": null,
   "id": "ab88a3e0",
   "metadata": {},
   "outputs": [],
   "source": [
    "import torch\n",
    "from torch.utils.data import DataLoader\n",
    "\n",
    "from _models import CoordinateCNN, CoordinateDataset, DetectionLoss\n",
    "\n",
    "# Check if GPU is available\n",
    "device = torch.device(\"cuda:0\" if torch.cuda.is_available() else \"cpu\")\n",
    "\n",
    "# model path for testing\n",
    "model_for_testing: str = \"models/checkpoint_light_rbg_256.pt\"\n",
    "\n",
    "# Update hyperparameters based on the model path\n",
    "CoordinateDataset.update_hyperparameters(model_for_testing)\n",
    "\n",
    "# Initialize model\n",
    "model = CoordinateCNN().to(device)\n",
    "model.load_state_dict(torch.load(model_for_testing, weights_only=True))\n",
    "\n",
    "# Define loss function\n",
    "criterion = DetectionLoss()"
   ]
  },
  {
   "cell_type": "code",
   "execution_count": null,
   "id": "dbc294ce",
   "metadata": {},
   "outputs": [],
   "source": [
    "# Create dataset and dataloader\n",
    "dataset: CoordinateDataset = CoordinateDataset(\"./train\")\n",
    "valDataset: CoordinateDataset = CoordinateDataset(\"./val\")\n",
    "testDataset: CoordinateDataset = CoordinateDataset(\"./testImages\")\n",
    "\n",
    "train_loader: DataLoader = DataLoader(dataset, batch_size=32, shuffle=True)\n",
    "val_loader: DataLoader = DataLoader(valDataset, batch_size=32, shuffle=True)\n",
    "test_loader: DataLoader = DataLoader(testDataset, batch_size=32, shuffle=True)\n",
    "\n",
    "print(f\"Number of test samples: {len(test_loader.dataset)}\")\n",
    "print(f\"Number of training samples: {len(train_loader.dataset)}\")\n",
    "print(f\"Number of validation samples: {len(val_loader.dataset)}\")"
   ]
  },
  {
   "cell_type": "code",
   "execution_count": null,
   "id": "76322f4f",
   "metadata": {},
   "outputs": [],
   "source": [
    "from _models import evaluate_model\n",
    "\n",
    "# Evaluate with mAP metrics\n",
    "test_metrics = evaluate_model(model, train_loader, device, criterion)\n",
    "\n",
    "print(f\"Train mAP50: {test_metrics['val_map50']:.2f}%\")\n",
    "print(f\"Train loss: {test_metrics['val_loss']:.4f}\")\n",
    "\n",
    "test_metrics = evaluate_model(model, val_loader, device, criterion)\n",
    "\n",
    "print(f\"Val mAP50: {test_metrics['val_map50']:.2f}%\")\n",
    "print(f\"Val loss: {test_metrics['val_loss']:.4f}\")\n",
    "\n",
    "test_metrics = evaluate_model(model, test_loader, device, criterion)\n",
    "\n",
    "print(f\"Test mAP50: {test_metrics['val_map50']:.2f}%\")\n",
    "print(f\"Test loss: {test_metrics['val_loss']:.4f}\")"
   ]
  },
  {
   "cell_type": "code",
   "execution_count": null,
   "id": "1ce1a41f",
   "metadata": {},
   "outputs": [],
   "source": [
    "import csv\n",
    "from glob import glob\n",
    "from pathlib import Path\n",
    "from _models import prediction_as_YOLO\n",
    "\n",
    "# Define the path to the test images directory and output CSV file\n",
    "output_csv_path = Path(f\"./my_submission.csv\")\n",
    "\n",
    "# Ensure the model is in evaluation mode\n",
    "model.eval()\n",
    "\n",
    "# Open the CSV file for writing\n",
    "with open(output_csv_path, mode=\"w\", newline=\"\") as csvfile:\n",
    "    writer = csv.writer(csvfile)\n",
    "\n",
    "    # Write the header row\n",
    "    writer.writerow([\"image_id\", \"prediction_string\"])\n",
    "\n",
    "    # Iterate over all test images\n",
    "    for image_path in glob(\"./testImages/images/*.jpg\"):  # Adjust extension if needed\n",
    "        # Generate prediction for the image\n",
    "        confidence, x_center, y_center, width, height = prediction_as_YOLO(\n",
    "            str(image_path), model\n",
    "        )\n",
    "\n",
    "        # Write the prediction to the CSV file\n",
    "        writer.writerow(\n",
    "            [\n",
    "                Path(image_path).name.strip(\".jpg\"),\n",
    "                \" \".join(map(str, [0, confidence, x_center, y_center, width, height])),\n",
    "            ]\n",
    "        )\n",
    "\n",
    "print(f\"Predictions saved to {output_csv_path}\")"
   ]
  }
 ],
 "metadata": {
  "kernelspec": {
   "display_name": "Python 3",
   "language": "python",
   "name": "python3"
  },
  "language_info": {
   "codemirror_mode": {
    "name": "ipython",
    "version": 3
   },
   "file_extension": ".py",
   "mimetype": "text/x-python",
   "name": "python",
   "nbconvert_exporter": "python",
   "pygments_lexer": "ipython3",
   "version": "3.12.9"
  }
 },
 "nbformat": 4,
 "nbformat_minor": 5
}
